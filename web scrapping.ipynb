{
 "cells": [
  {
   "cell_type": "code",
   "execution_count": 175,
   "id": "be680313",
   "metadata": {},
   "outputs": [],
   "source": [
    "from bs4 import BeautifulSoup\n",
    "import csv\n",
    "import requests"
   ]
  },
  {
   "cell_type": "code",
   "execution_count": 176,
   "id": "f999765c",
   "metadata": {},
   "outputs": [],
   "source": [
    "response = requests.get(\"https://smoothcomp.com/en/event/7272/participants\")\n",
    "soup = BeautifulSoup(response.text, \"html.parser\")\n",
    "participants = soup.find_all(\"div\", class_=\"well well-inverted relative\")"
   ]
  },
  {
   "cell_type": "code",
   "execution_count": 177,
   "id": "94381d63",
   "metadata": {},
   "outputs": [],
   "source": [
    "filename = \"Participants.csv\"\n",
    "\n",
    "f = open(filename, \"w\", encoding=\"utf-16\")\n",
    "\n",
    "headers = 'Full_name, Country, Academy \\n' \n",
    "\n",
    "f.write(headers)\n",
    "\n",
    "\n",
    "for participant in participants:\n",
    "    full_name = participant.find(\"a\").text.strip()[:-2].strip()\n",
    "    country = participant.find(\"a\").text.strip()[-2:]\n",
    "    academy = participant.find(\"span\", class_ = \"muted\").text.strip()\n",
    "    \n",
    "    \n",
    "    f.write(full_name + \",\" + country + \",\" + academy + \"\\n\")\n",
    "    \n",
    "f.close()"
   ]
  },
  {
   "cell_type": "code",
   "execution_count": null,
   "id": "82928de1",
   "metadata": {},
   "outputs": [],
   "source": []
  },
  {
   "cell_type": "code",
   "execution_count": null,
   "id": "5286c237",
   "metadata": {},
   "outputs": [],
   "source": []
  },
  {
   "cell_type": "code",
   "execution_count": null,
   "id": "8e81250f",
   "metadata": {},
   "outputs": [],
   "source": []
  },
  {
   "cell_type": "code",
   "execution_count": null,
   "id": "47ba70b4",
   "metadata": {},
   "outputs": [],
   "source": []
  },
  {
   "cell_type": "code",
   "execution_count": null,
   "id": "8539a531",
   "metadata": {},
   "outputs": [],
   "source": []
  },
  {
   "cell_type": "code",
   "execution_count": null,
   "id": "f1f5ad02",
   "metadata": {},
   "outputs": [],
   "source": []
  },
  {
   "cell_type": "code",
   "execution_count": null,
   "id": "a1fb572c",
   "metadata": {},
   "outputs": [],
   "source": []
  },
  {
   "cell_type": "code",
   "execution_count": null,
   "id": "7006c074",
   "metadata": {},
   "outputs": [],
   "source": []
  }
 ],
 "metadata": {
  "kernelspec": {
   "display_name": "Python 3 (ipykernel)",
   "language": "python",
   "name": "python3"
  },
  "language_info": {
   "codemirror_mode": {
    "name": "ipython",
    "version": 3
   },
   "file_extension": ".py",
   "mimetype": "text/x-python",
   "name": "python",
   "nbconvert_exporter": "python",
   "pygments_lexer": "ipython3",
   "version": "3.8.13"
  }
 },
 "nbformat": 4,
 "nbformat_minor": 5
}
